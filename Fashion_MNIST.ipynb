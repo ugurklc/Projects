{
 "cells": [
  {
   "cell_type": "code",
   "execution_count": 1,
   "metadata": {},
   "outputs": [],
   "source": [
    "import numpy as np\n",
    "import tensorflow as tf"
   ]
  },
  {
   "cell_type": "code",
   "execution_count": 2,
   "metadata": {},
   "outputs": [
    {
     "data": {
      "text/plain": [
       "'2.0.0'"
      ]
     },
     "execution_count": 2,
     "metadata": {},
     "output_type": "execute_result"
    }
   ],
   "source": [
    "tf.__version__"
   ]
  },
  {
   "cell_type": "code",
   "execution_count": 4,
   "metadata": {},
   "outputs": [
    {
     "data": {
      "text/plain": [
       "'2.2.4-tf'"
      ]
     },
     "execution_count": 4,
     "metadata": {},
     "output_type": "execute_result"
    }
   ],
   "source": [
    "tf.keras.__version__"
   ]
  },
  {
   "cell_type": "code",
   "execution_count": 5,
   "metadata": {},
   "outputs": [],
   "source": [
    "fashion_mnist = tf.keras.datasets.fashion_mnist"
   ]
  },
  {
   "cell_type": "code",
   "execution_count": 6,
   "metadata": {},
   "outputs": [],
   "source": [
    "(X_train_full, y_train_full), (X_test, y_test) = fashion_mnist.load_data()"
   ]
  },
  {
   "cell_type": "code",
   "execution_count": 7,
   "metadata": {},
   "outputs": [
    {
     "data": {
      "text/plain": [
       "(60000, 28, 28)"
      ]
     },
     "execution_count": 7,
     "metadata": {},
     "output_type": "execute_result"
    }
   ],
   "source": [
    "X_train_full.shape"
   ]
  },
  {
   "cell_type": "code",
   "execution_count": 8,
   "metadata": {},
   "outputs": [
    {
     "data": {
      "text/plain": [
       "(10000, 28, 28)"
      ]
     },
     "execution_count": 8,
     "metadata": {},
     "output_type": "execute_result"
    }
   ],
   "source": [
    "X_test.shape"
   ]
  },
  {
   "cell_type": "code",
   "execution_count": 9,
   "metadata": {},
   "outputs": [
    {
     "data": {
      "text/plain": [
       "(28, 28)"
      ]
     },
     "execution_count": 9,
     "metadata": {},
     "output_type": "execute_result"
    }
   ],
   "source": [
    "X_train_full[0].shape"
   ]
  },
  {
   "cell_type": "code",
   "execution_count": 10,
   "metadata": {},
   "outputs": [],
   "source": [
    "X_valid, X_train = X_train_full[:5000]/255.0, X_train_full[5000:]/255.0\n",
    "y_valid, y_train = y_train_full[:5000], y_train_full[5000:]"
   ]
  },
  {
   "cell_type": "code",
   "execution_count": 11,
   "metadata": {},
   "outputs": [
    {
     "name": "stdout",
     "output_type": "stream",
     "text": [
      "(55000, 28, 28)\n",
      "(5000, 28, 28)\n"
     ]
    }
   ],
   "source": [
    "print(X_train.shape)\n",
    "print(X_valid.shape)"
   ]
  },
  {
   "cell_type": "code",
   "execution_count": 12,
   "metadata": {},
   "outputs": [],
   "source": [
    "class_names = ['T-shirt/top','Trouser','Pullover','Dress','Coat','Sandal','Shirt','Sneaker','Bag','Ankle Boot']"
   ]
  },
  {
   "cell_type": "code",
   "execution_count": 13,
   "metadata": {},
   "outputs": [
    {
     "data": {
      "text/plain": [
       "'Coat'"
      ]
     },
     "execution_count": 13,
     "metadata": {},
     "output_type": "execute_result"
    }
   ],
   "source": [
    "class_names[y_train[0]]"
   ]
  },
  {
   "cell_type": "code",
   "execution_count": 22,
   "metadata": {},
   "outputs": [],
   "source": [
    "from tensorflow.keras.models import Sequential\n",
    "from tensorflow.keras.layers import Dense, Flatten"
   ]
  },
  {
   "cell_type": "code",
   "execution_count": 57,
   "metadata": {},
   "outputs": [
    {
     "data": {
      "text/plain": [
       "(None, 784)"
      ]
     },
     "execution_count": 57,
     "metadata": {},
     "output_type": "execute_result"
    }
   ],
   "source": [
    "model = Sequential()\n",
    "\n",
    "model.add(Flatten(input_shape=[28,28]))\n",
    "model.output_shape"
   ]
  },
  {
   "cell_type": "code",
   "execution_count": 58,
   "metadata": {},
   "outputs": [],
   "source": [
    "model.add(Dense(300, activation='relu'))\n",
    "model.add(Dense(100, activation='relu'))\n",
    "model.add(Dense(10, activation='softmax'))"
   ]
  },
  {
   "cell_type": "code",
   "execution_count": 31,
   "metadata": {},
   "outputs": [],
   "source": [
    "# This line is tha exact same of the previous line\n",
    "\n",
    "#model = Sequential([\n",
    "#    Flatten(input_shape=[28,28]),\n",
    "#    Dense(300, activation='relu'),\n",
    "#    Dense(100, activation='relu'),\n",
    "#    Dense(10, activation='softmax')\n",
    "#])"
   ]
  },
  {
   "cell_type": "code",
   "execution_count": 32,
   "metadata": {},
   "outputs": [
    {
     "name": "stdout",
     "output_type": "stream",
     "text": [
      "Model: \"sequential_1\"\n",
      "_________________________________________________________________\n",
      "Layer (type)                 Output Shape              Param #   \n",
      "=================================================================\n",
      "flatten_1 (Flatten)          (None, 784)               0         \n",
      "_________________________________________________________________\n",
      "dense_3 (Dense)              (None, 300)               235500    \n",
      "_________________________________________________________________\n",
      "dense_4 (Dense)              (None, 100)               30100     \n",
      "_________________________________________________________________\n",
      "dense_5 (Dense)              (None, 10)                1010      \n",
      "=================================================================\n",
      "Total params: 266,610\n",
      "Trainable params: 266,610\n",
      "Non-trainable params: 0\n",
      "_________________________________________________________________\n"
     ]
    }
   ],
   "source": [
    "model.summary()"
   ]
  },
  {
   "cell_type": "code",
   "execution_count": 33,
   "metadata": {},
   "outputs": [
    {
     "data": {
      "text/plain": [
       "[<tensorflow.python.keras.layers.core.Flatten at 0x65e595390>,\n",
       " <tensorflow.python.keras.layers.core.Dense at 0x65e595690>,\n",
       " <tensorflow.python.keras.layers.core.Dense at 0x65f52de50>,\n",
       " <tensorflow.python.keras.layers.core.Dense at 0x65e5c4350>]"
      ]
     },
     "execution_count": 33,
     "metadata": {},
     "output_type": "execute_result"
    }
   ],
   "source": [
    "model.layers"
   ]
  },
  {
   "cell_type": "code",
   "execution_count": 59,
   "metadata": {},
   "outputs": [
    {
     "data": {
      "text/plain": [
       "<tensorflow.python.keras.layers.core.Dense at 0x65f41efd0>"
      ]
     },
     "execution_count": 59,
     "metadata": {},
     "output_type": "execute_result"
    }
   ],
   "source": [
    "hidden1 = model.layers[1]\n",
    "hidden1"
   ]
  },
  {
   "cell_type": "code",
   "execution_count": 60,
   "metadata": {},
   "outputs": [],
   "source": [
    "weights, biases = hidden1.get_weights()"
   ]
  },
  {
   "cell_type": "code",
   "execution_count": 61,
   "metadata": {},
   "outputs": [
    {
     "data": {
      "text/plain": [
       "array([[-0.02767802, -0.02615979,  0.00208842, ..., -0.05232339,\n",
       "         0.0439188 , -0.04568769],\n",
       "       [-0.03301485, -0.03383781,  0.02787704, ...,  0.00634758,\n",
       "        -0.03003705,  0.03620335],\n",
       "       [ 0.01809905,  0.01963653,  0.03281911, ..., -0.0038629 ,\n",
       "         0.04095163, -0.07148598],\n",
       "       ...,\n",
       "       [-0.0247139 , -0.04314153,  0.04653191, ...,  0.03615106,\n",
       "        -0.04345907, -0.0126428 ],\n",
       "       [-0.05195534,  0.03307581,  0.01206423, ..., -0.00334516,\n",
       "         0.01098977, -0.05778872],\n",
       "       [ 0.03982481, -0.03569672, -0.04573204, ..., -0.01757509,\n",
       "         0.03442305, -0.05588492]], dtype=float32)"
      ]
     },
     "execution_count": 61,
     "metadata": {},
     "output_type": "execute_result"
    }
   ],
   "source": [
    "weights"
   ]
  },
  {
   "cell_type": "code",
   "execution_count": 62,
   "metadata": {},
   "outputs": [
    {
     "data": {
      "text/plain": [
       "(784, 300)"
      ]
     },
     "execution_count": 62,
     "metadata": {},
     "output_type": "execute_result"
    }
   ],
   "source": [
    "weights.shape"
   ]
  },
  {
   "cell_type": "code",
   "execution_count": 64,
   "metadata": {},
   "outputs": [
    {
     "data": {
      "text/plain": [
       "(300,)"
      ]
     },
     "execution_count": 64,
     "metadata": {},
     "output_type": "execute_result"
    }
   ],
   "source": [
    "biases.shape"
   ]
  },
  {
   "cell_type": "code",
   "execution_count": 66,
   "metadata": {},
   "outputs": [],
   "source": [
    "model.compile(\n",
    "    optimizer=tf.keras.optimizers.SGD(), \n",
    "    loss=tf.keras.losses.SparseCategoricalCrossentropy(), \n",
    "    metrics=[tf.keras.metrics.sparse_categorical_accuracy])"
   ]
  },
  {
   "cell_type": "code",
   "execution_count": 67,
   "metadata": {},
   "outputs": [],
   "source": [
    "# This line is tha exact same of the previous line\n",
    "\n",
    "model.compile(\n",
    "    optimizer='sgd', \n",
    "    loss='sparse_categorical_crossentropy', \n",
    "    metrics=['accuracy'])"
   ]
  },
  {
   "cell_type": "code",
   "execution_count": 68,
   "metadata": {},
   "outputs": [],
   "source": [
    "import time"
   ]
  },
  {
   "cell_type": "code",
   "execution_count": 81,
   "metadata": {},
   "outputs": [
    {
     "name": "stdout",
     "output_type": "stream",
     "text": [
      "Train on 55000 samples, validate on 5000 samples\n",
      "Epoch 1/30\n",
      "55000/55000 [==============================] - 8s 139us/sample - loss: 0.4151 - accuracy: 0.8539 - val_loss: 0.3979 - val_accuracy: 0.8638\n",
      "Epoch 2/30\n",
      "55000/55000 [==============================] - 7s 131us/sample - loss: 0.3940 - accuracy: 0.8616 - val_loss: 0.3988 - val_accuracy: 0.8620\n",
      "Epoch 3/30\n",
      "55000/55000 [==============================] - 7s 131us/sample - loss: 0.3783 - accuracy: 0.8658 - val_loss: 0.3706 - val_accuracy: 0.8706\n",
      "Epoch 4/30\n",
      "55000/55000 [==============================] - 7s 130us/sample - loss: 0.3638 - accuracy: 0.8713 - val_loss: 0.3705 - val_accuracy: 0.8704\n",
      "Epoch 5/30\n",
      "55000/55000 [==============================] - 7s 131us/sample - loss: 0.3531 - accuracy: 0.8737 - val_loss: 0.3841 - val_accuracy: 0.8642\n",
      "Epoch 6/30\n",
      "55000/55000 [==============================] - 7s 135us/sample - loss: 0.3425 - accuracy: 0.8774 - val_loss: 0.3524 - val_accuracy: 0.8774\n",
      "Epoch 7/30\n",
      "55000/55000 [==============================] - 7s 134us/sample - loss: 0.3337 - accuracy: 0.8814 - val_loss: 0.3475 - val_accuracy: 0.8762\n",
      "Epoch 8/30\n",
      "55000/55000 [==============================] - 7s 136us/sample - loss: 0.3253 - accuracy: 0.8815 - val_loss: 0.3497 - val_accuracy: 0.8726\n",
      "Epoch 9/30\n",
      "55000/55000 [==============================] - 7s 134us/sample - loss: 0.3180 - accuracy: 0.8860 - val_loss: 0.3388 - val_accuracy: 0.8782\n",
      "Epoch 10/30\n",
      "55000/55000 [==============================] - 7s 136us/sample - loss: 0.3097 - accuracy: 0.8888 - val_loss: 0.3318 - val_accuracy: 0.8812\n",
      "Epoch 11/30\n",
      "55000/55000 [==============================] - 7s 134us/sample - loss: 0.3036 - accuracy: 0.8911 - val_loss: 0.3336 - val_accuracy: 0.8790\n",
      "Epoch 12/30\n",
      "55000/55000 [==============================] - 7s 135us/sample - loss: 0.2977 - accuracy: 0.8927 - val_loss: 0.3354 - val_accuracy: 0.8786\n",
      "Epoch 13/30\n",
      "55000/55000 [==============================] - 8s 136us/sample - loss: 0.2919 - accuracy: 0.8941 - val_loss: 0.3199 - val_accuracy: 0.8870\n",
      "Epoch 14/30\n",
      "55000/55000 [==============================] - 8s 138us/sample - loss: 0.2857 - accuracy: 0.8967 - val_loss: 0.3197 - val_accuracy: 0.8864\n",
      "Epoch 15/30\n",
      "55000/55000 [==============================] - 7s 135us/sample - loss: 0.2804 - accuracy: 0.8991 - val_loss: 0.3194 - val_accuracy: 0.8824\n",
      "Epoch 16/30\n",
      "55000/55000 [==============================] - 8s 137us/sample - loss: 0.2757 - accuracy: 0.9004 - val_loss: 0.3305 - val_accuracy: 0.8806\n",
      "Epoch 17/30\n",
      "55000/55000 [==============================] - 8s 138us/sample - loss: 0.2711 - accuracy: 0.9025 - val_loss: 0.3236 - val_accuracy: 0.8812\n",
      "Epoch 18/30\n",
      "55000/55000 [==============================] - 8s 138us/sample - loss: 0.2646 - accuracy: 0.9046 - val_loss: 0.3162 - val_accuracy: 0.8818\n",
      "Epoch 19/30\n",
      "55000/55000 [==============================] - 8s 137us/sample - loss: 0.2604 - accuracy: 0.9065 - val_loss: 0.3117 - val_accuracy: 0.8816\n",
      "Epoch 20/30\n",
      "55000/55000 [==============================] - 8s 138us/sample - loss: 0.2563 - accuracy: 0.9077 - val_loss: 0.3072 - val_accuracy: 0.8856\n",
      "Epoch 21/30\n",
      "55000/55000 [==============================] - 8s 137us/sample - loss: 0.2515 - accuracy: 0.9085 - val_loss: 0.3018 - val_accuracy: 0.8886\n",
      "Epoch 22/30\n",
      "55000/55000 [==============================] - 8s 137us/sample - loss: 0.2482 - accuracy: 0.9098 - val_loss: 0.2939 - val_accuracy: 0.8924\n",
      "Epoch 23/30\n",
      "55000/55000 [==============================] - 8s 137us/sample - loss: 0.2436 - accuracy: 0.9123 - val_loss: 0.3119 - val_accuracy: 0.8878\n",
      "Epoch 24/30\n",
      "55000/55000 [==============================] - 8s 142us/sample - loss: 0.2385 - accuracy: 0.9137 - val_loss: 0.3087 - val_accuracy: 0.8866\n",
      "Epoch 25/30\n",
      "55000/55000 [==============================] - 7s 133us/sample - loss: 0.2363 - accuracy: 0.9145 - val_loss: 0.2943 - val_accuracy: 0.8922\n",
      "Epoch 26/30\n",
      "55000/55000 [==============================] - 7s 135us/sample - loss: 0.2323 - accuracy: 0.9166 - val_loss: 0.3081 - val_accuracy: 0.8858\n",
      "Epoch 27/30\n",
      "55000/55000 [==============================] - 7s 136us/sample - loss: 0.2277 - accuracy: 0.9177 - val_loss: 0.3085 - val_accuracy: 0.8858\n",
      "Epoch 28/30\n",
      "55000/55000 [==============================] - 7s 136us/sample - loss: 0.2252 - accuracy: 0.9181 - val_loss: 0.2950 - val_accuracy: 0.8926\n",
      "Epoch 29/30\n",
      "55000/55000 [==============================] - 7s 136us/sample - loss: 0.2210 - accuracy: 0.9210 - val_loss: 0.2896 - val_accuracy: 0.8946\n",
      "Epoch 30/30\n",
      "55000/55000 [==============================] - 7s 135us/sample - loss: 0.2165 - accuracy: 0.9223 - val_loss: 0.3031 - val_accuracy: 0.8928\n",
      "\n",
      "Time passed :  223.9 sn\n"
     ]
    }
   ],
   "source": [
    "start = time.time()\n",
    "history = model.fit(\n",
    "    X_train, \n",
    "    y_train, \n",
    "    epochs=30, \n",
    "    validation_data=(X_valid, y_valid))\n",
    "end = time.time()\n",
    "print('\\nTime passed : ', \"{:.1f}\".format(end - start), 'sn')"
   ]
  },
  {
   "cell_type": "code",
   "execution_count": 82,
   "metadata": {},
   "outputs": [
    {
     "data": {
      "text/plain": [
       "{'batch_size': 32,\n",
       " 'epochs': 30,\n",
       " 'steps': 1719,\n",
       " 'samples': 55000,\n",
       " 'verbose': 0,\n",
       " 'do_validation': True,\n",
       " 'metrics': ['loss', 'accuracy', 'val_loss', 'val_accuracy']}"
      ]
     },
     "execution_count": 82,
     "metadata": {},
     "output_type": "execute_result"
    }
   ],
   "source": [
    "history.params"
   ]
  },
  {
   "cell_type": "code",
   "execution_count": 83,
   "metadata": {},
   "outputs": [
    {
     "data": {
      "text/plain": [
       "[0,\n",
       " 1,\n",
       " 2,\n",
       " 3,\n",
       " 4,\n",
       " 5,\n",
       " 6,\n",
       " 7,\n",
       " 8,\n",
       " 9,\n",
       " 10,\n",
       " 11,\n",
       " 12,\n",
       " 13,\n",
       " 14,\n",
       " 15,\n",
       " 16,\n",
       " 17,\n",
       " 18,\n",
       " 19,\n",
       " 20,\n",
       " 21,\n",
       " 22,\n",
       " 23,\n",
       " 24,\n",
       " 25,\n",
       " 26,\n",
       " 27,\n",
       " 28,\n",
       " 29]"
      ]
     },
     "execution_count": 83,
     "metadata": {},
     "output_type": "execute_result"
    }
   ],
   "source": [
    "history.epoch"
   ]
  },
  {
   "cell_type": "code",
   "execution_count": 84,
   "metadata": {},
   "outputs": [
    {
     "data": {
      "text/plain": [
       "dict_keys(['loss', 'accuracy', 'val_loss', 'val_accuracy'])"
      ]
     },
     "execution_count": 84,
     "metadata": {},
     "output_type": "execute_result"
    }
   ],
   "source": [
    "history.history.keys()"
   ]
  },
  {
   "cell_type": "code",
   "execution_count": 85,
   "metadata": {},
   "outputs": [],
   "source": [
    "import pandas as pd\n",
    "import matplotlib.pyplot as plt"
   ]
  },
  {
   "cell_type": "code",
   "execution_count": 88,
   "metadata": {},
   "outputs": [],
   "source": [
    "model_history = pd.DataFrame(history.history)"
   ]
  },
  {
   "cell_type": "code",
   "execution_count": 89,
   "metadata": {},
   "outputs": [
    {
     "data": {
      "text/html": [
       "<div>\n",
       "<style scoped>\n",
       "    .dataframe tbody tr th:only-of-type {\n",
       "        vertical-align: middle;\n",
       "    }\n",
       "\n",
       "    .dataframe tbody tr th {\n",
       "        vertical-align: top;\n",
       "    }\n",
       "\n",
       "    .dataframe thead th {\n",
       "        text-align: right;\n",
       "    }\n",
       "</style>\n",
       "<table border=\"1\" class=\"dataframe\">\n",
       "  <thead>\n",
       "    <tr style=\"text-align: right;\">\n",
       "      <th></th>\n",
       "      <th>loss</th>\n",
       "      <th>accuracy</th>\n",
       "      <th>val_loss</th>\n",
       "      <th>val_accuracy</th>\n",
       "    </tr>\n",
       "  </thead>\n",
       "  <tbody>\n",
       "    <tr>\n",
       "      <th>0</th>\n",
       "      <td>0.415137</td>\n",
       "      <td>0.853873</td>\n",
       "      <td>0.397883</td>\n",
       "      <td>0.8638</td>\n",
       "    </tr>\n",
       "    <tr>\n",
       "      <th>1</th>\n",
       "      <td>0.394007</td>\n",
       "      <td>0.861600</td>\n",
       "      <td>0.398755</td>\n",
       "      <td>0.8620</td>\n",
       "    </tr>\n",
       "    <tr>\n",
       "      <th>2</th>\n",
       "      <td>0.378283</td>\n",
       "      <td>0.865836</td>\n",
       "      <td>0.370550</td>\n",
       "      <td>0.8706</td>\n",
       "    </tr>\n",
       "    <tr>\n",
       "      <th>3</th>\n",
       "      <td>0.363753</td>\n",
       "      <td>0.871309</td>\n",
       "      <td>0.370539</td>\n",
       "      <td>0.8704</td>\n",
       "    </tr>\n",
       "    <tr>\n",
       "      <th>4</th>\n",
       "      <td>0.353070</td>\n",
       "      <td>0.873691</td>\n",
       "      <td>0.384129</td>\n",
       "      <td>0.8642</td>\n",
       "    </tr>\n",
       "    <tr>\n",
       "      <th>5</th>\n",
       "      <td>0.342502</td>\n",
       "      <td>0.877418</td>\n",
       "      <td>0.352410</td>\n",
       "      <td>0.8774</td>\n",
       "    </tr>\n",
       "    <tr>\n",
       "      <th>6</th>\n",
       "      <td>0.333744</td>\n",
       "      <td>0.881400</td>\n",
       "      <td>0.347478</td>\n",
       "      <td>0.8762</td>\n",
       "    </tr>\n",
       "    <tr>\n",
       "      <th>7</th>\n",
       "      <td>0.325281</td>\n",
       "      <td>0.881527</td>\n",
       "      <td>0.349712</td>\n",
       "      <td>0.8726</td>\n",
       "    </tr>\n",
       "    <tr>\n",
       "      <th>8</th>\n",
       "      <td>0.318034</td>\n",
       "      <td>0.885982</td>\n",
       "      <td>0.338798</td>\n",
       "      <td>0.8782</td>\n",
       "    </tr>\n",
       "    <tr>\n",
       "      <th>9</th>\n",
       "      <td>0.309701</td>\n",
       "      <td>0.888782</td>\n",
       "      <td>0.331755</td>\n",
       "      <td>0.8812</td>\n",
       "    </tr>\n",
       "    <tr>\n",
       "      <th>10</th>\n",
       "      <td>0.303596</td>\n",
       "      <td>0.891091</td>\n",
       "      <td>0.333569</td>\n",
       "      <td>0.8790</td>\n",
       "    </tr>\n",
       "    <tr>\n",
       "      <th>11</th>\n",
       "      <td>0.297714</td>\n",
       "      <td>0.892745</td>\n",
       "      <td>0.335389</td>\n",
       "      <td>0.8786</td>\n",
       "    </tr>\n",
       "    <tr>\n",
       "      <th>12</th>\n",
       "      <td>0.291942</td>\n",
       "      <td>0.894109</td>\n",
       "      <td>0.319922</td>\n",
       "      <td>0.8870</td>\n",
       "    </tr>\n",
       "    <tr>\n",
       "      <th>13</th>\n",
       "      <td>0.285736</td>\n",
       "      <td>0.896727</td>\n",
       "      <td>0.319674</td>\n",
       "      <td>0.8864</td>\n",
       "    </tr>\n",
       "    <tr>\n",
       "      <th>14</th>\n",
       "      <td>0.280419</td>\n",
       "      <td>0.899145</td>\n",
       "      <td>0.319354</td>\n",
       "      <td>0.8824</td>\n",
       "    </tr>\n",
       "    <tr>\n",
       "      <th>15</th>\n",
       "      <td>0.275658</td>\n",
       "      <td>0.900436</td>\n",
       "      <td>0.330485</td>\n",
       "      <td>0.8806</td>\n",
       "    </tr>\n",
       "    <tr>\n",
       "      <th>16</th>\n",
       "      <td>0.271147</td>\n",
       "      <td>0.902473</td>\n",
       "      <td>0.323566</td>\n",
       "      <td>0.8812</td>\n",
       "    </tr>\n",
       "    <tr>\n",
       "      <th>17</th>\n",
       "      <td>0.264588</td>\n",
       "      <td>0.904618</td>\n",
       "      <td>0.316201</td>\n",
       "      <td>0.8818</td>\n",
       "    </tr>\n",
       "    <tr>\n",
       "      <th>18</th>\n",
       "      <td>0.260440</td>\n",
       "      <td>0.906509</td>\n",
       "      <td>0.311652</td>\n",
       "      <td>0.8816</td>\n",
       "    </tr>\n",
       "    <tr>\n",
       "      <th>19</th>\n",
       "      <td>0.256266</td>\n",
       "      <td>0.907673</td>\n",
       "      <td>0.307197</td>\n",
       "      <td>0.8856</td>\n",
       "    </tr>\n",
       "    <tr>\n",
       "      <th>20</th>\n",
       "      <td>0.251503</td>\n",
       "      <td>0.908473</td>\n",
       "      <td>0.301818</td>\n",
       "      <td>0.8886</td>\n",
       "    </tr>\n",
       "    <tr>\n",
       "      <th>21</th>\n",
       "      <td>0.248206</td>\n",
       "      <td>0.909764</td>\n",
       "      <td>0.293926</td>\n",
       "      <td>0.8924</td>\n",
       "    </tr>\n",
       "    <tr>\n",
       "      <th>22</th>\n",
       "      <td>0.243606</td>\n",
       "      <td>0.912345</td>\n",
       "      <td>0.311868</td>\n",
       "      <td>0.8878</td>\n",
       "    </tr>\n",
       "    <tr>\n",
       "      <th>23</th>\n",
       "      <td>0.238517</td>\n",
       "      <td>0.913691</td>\n",
       "      <td>0.308705</td>\n",
       "      <td>0.8866</td>\n",
       "    </tr>\n",
       "    <tr>\n",
       "      <th>24</th>\n",
       "      <td>0.236260</td>\n",
       "      <td>0.914509</td>\n",
       "      <td>0.294279</td>\n",
       "      <td>0.8922</td>\n",
       "    </tr>\n",
       "    <tr>\n",
       "      <th>25</th>\n",
       "      <td>0.232268</td>\n",
       "      <td>0.916582</td>\n",
       "      <td>0.308096</td>\n",
       "      <td>0.8858</td>\n",
       "    </tr>\n",
       "    <tr>\n",
       "      <th>26</th>\n",
       "      <td>0.227745</td>\n",
       "      <td>0.917655</td>\n",
       "      <td>0.308508</td>\n",
       "      <td>0.8858</td>\n",
       "    </tr>\n",
       "    <tr>\n",
       "      <th>27</th>\n",
       "      <td>0.225195</td>\n",
       "      <td>0.918091</td>\n",
       "      <td>0.294976</td>\n",
       "      <td>0.8926</td>\n",
       "    </tr>\n",
       "    <tr>\n",
       "      <th>28</th>\n",
       "      <td>0.221001</td>\n",
       "      <td>0.921036</td>\n",
       "      <td>0.289606</td>\n",
       "      <td>0.8946</td>\n",
       "    </tr>\n",
       "    <tr>\n",
       "      <th>29</th>\n",
       "      <td>0.216483</td>\n",
       "      <td>0.922255</td>\n",
       "      <td>0.303117</td>\n",
       "      <td>0.8928</td>\n",
       "    </tr>\n",
       "  </tbody>\n",
       "</table>\n",
       "</div>"
      ],
      "text/plain": [
       "        loss  accuracy  val_loss  val_accuracy\n",
       "0   0.415137  0.853873  0.397883        0.8638\n",
       "1   0.394007  0.861600  0.398755        0.8620\n",
       "2   0.378283  0.865836  0.370550        0.8706\n",
       "3   0.363753  0.871309  0.370539        0.8704\n",
       "4   0.353070  0.873691  0.384129        0.8642\n",
       "5   0.342502  0.877418  0.352410        0.8774\n",
       "6   0.333744  0.881400  0.347478        0.8762\n",
       "7   0.325281  0.881527  0.349712        0.8726\n",
       "8   0.318034  0.885982  0.338798        0.8782\n",
       "9   0.309701  0.888782  0.331755        0.8812\n",
       "10  0.303596  0.891091  0.333569        0.8790\n",
       "11  0.297714  0.892745  0.335389        0.8786\n",
       "12  0.291942  0.894109  0.319922        0.8870\n",
       "13  0.285736  0.896727  0.319674        0.8864\n",
       "14  0.280419  0.899145  0.319354        0.8824\n",
       "15  0.275658  0.900436  0.330485        0.8806\n",
       "16  0.271147  0.902473  0.323566        0.8812\n",
       "17  0.264588  0.904618  0.316201        0.8818\n",
       "18  0.260440  0.906509  0.311652        0.8816\n",
       "19  0.256266  0.907673  0.307197        0.8856\n",
       "20  0.251503  0.908473  0.301818        0.8886\n",
       "21  0.248206  0.909764  0.293926        0.8924\n",
       "22  0.243606  0.912345  0.311868        0.8878\n",
       "23  0.238517  0.913691  0.308705        0.8866\n",
       "24  0.236260  0.914509  0.294279        0.8922\n",
       "25  0.232268  0.916582  0.308096        0.8858\n",
       "26  0.227745  0.917655  0.308508        0.8858\n",
       "27  0.225195  0.918091  0.294976        0.8926\n",
       "28  0.221001  0.921036  0.289606        0.8946\n",
       "29  0.216483  0.922255  0.303117        0.8928"
      ]
     },
     "execution_count": 89,
     "metadata": {},
     "output_type": "execute_result"
    }
   ],
   "source": [
    "model_history"
   ]
  },
  {
   "cell_type": "code",
   "execution_count": 95,
   "metadata": {},
   "outputs": [
    {
     "data": {
      "text/plain": [
       "(0, 1)"
      ]
     },
     "execution_count": 95,
     "metadata": {},
     "output_type": "execute_result"
    },
    {
     "data": {
      "image/png": "[encoded data removed]",
      "text/plain": [
       "<Figure size 864x432 with 1 Axes>"
      ]
     },
     "metadata": {
      "needs_background": "light"
     },
     "output_type": "display_data"
    }
   ],
   "source": [
    "model_history.plot(figsize=(12,6))\n",
    "plt.grid(True)\n",
    "plt.gca().set_ylim(0,1)"
   ]
  },
  {
   "cell_type": "code",
   "execution_count": 100,
   "metadata": {},
   "outputs": [
    {
     "data": {
      "text/plain": [
       "[70.2413201751709, 0.8379]"
      ]
     },
     "execution_count": 100,
     "metadata": {},
     "output_type": "execute_result"
    }
   ],
   "source": [
    "model.evaluate(X_test, y_test, verbose=0)"
   ]
  },
  {
   "cell_type": "code",
   "execution_count": 101,
   "metadata": {},
   "outputs": [],
   "source": [
    "X_new = X_test[:3]"
   ]
  },
  {
   "cell_type": "code",
   "execution_count": 103,
   "metadata": {},
   "outputs": [
    {
     "data": {
      "text/plain": [
       "array([[0., 0., 0., 0., 0., 0., 0., 0., 0., 1.],\n",
       "       [0., 0., 1., 0., 0., 0., 0., 0., 0., 0.],\n",
       "       [0., 1., 0., 0., 0., 0., 0., 0., 0., 0.]], dtype=float32)"
      ]
     },
     "execution_count": 103,
     "metadata": {},
     "output_type": "execute_result"
    }
   ],
   "source": [
    "y_proba = model.predict(X_new)\n",
    "y_proba.round(2)"
   ]
  },
  {
   "cell_type": "code",
   "execution_count": 104,
   "metadata": {},
   "outputs": [
    {
     "data": {
      "text/plain": [
       "array([9, 2, 1])"
      ]
     },
     "execution_count": 104,
     "metadata": {},
     "output_type": "execute_result"
    }
   ],
   "source": [
    "y_pred = model.predict_classes(X_new)\n",
    "y_pred"
   ]
  },
  {
   "cell_type": "code",
   "execution_count": 117,
   "metadata": {},
   "outputs": [
    {
     "data": {
      "text/plain": [
       "array(['Ankle Boot', 'Pullover', 'Trouser'], dtype='<U11')"
      ]
     },
     "execution_count": 117,
     "metadata": {},
     "output_type": "execute_result"
    }
   ],
   "source": [
    "np.array(class_names)[y_pred]"
   ]
  },
  {
   "cell_type": "code",
   "execution_count": 119,
   "metadata": {},
   "outputs": [
    {
     "data": {
      "text/plain": [
       "array(['Ankle Boot', 'Pullover', 'Trouser'], dtype='<U11')"
      ]
     },
     "execution_count": 119,
     "metadata": {},
     "output_type": "execute_result"
    }
   ],
   "source": [
    "y_new = y_test[:3]\n",
    "np.array(class_names)[y_new]"
   ]
  },
  {
   "cell_type": "code",
   "execution_count": null,
   "metadata": {},
   "outputs": [],
   "source": []
  }
 ],
 "metadata": {
  "kernelspec": {
   "display_name": "Python 3",
   "language": "python",
   "name": "python3"
  },
  "language_info": {
   "codemirror_mode": {
    "name": "ipython",
    "version": 3
   },
   "file_extension": ".py",
   "mimetype": "text/x-python",
   "name": "python",
   "nbconvert_exporter": "python",
   "pygments_lexer": "ipython3",
   "version": "3.7.6"
  }
 },
 "nbformat": 4,
 "nbformat_minor": 4
}
